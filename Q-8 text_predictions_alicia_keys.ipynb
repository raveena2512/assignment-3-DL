{
  "cells": [
    {
      "cell_type": "markdown",
      "id": "ffd5bdd0",
      "metadata": {
        "papermill": {
          "duration": 0.043508,
          "end_time": "2021-11-27T20:25:42.963949",
          "exception": false,
          "start_time": "2021-11-27T20:25:42.920441",
          "status": "completed"
        },
        "tags": [],
        "id": "ffd5bdd0"
      },
      "source": [
        "# Context\n",
        "\n",
        "**The file I chose to use is the music by Alicia keys new york.**\n",
        "\n",
        "**Use Recurring Neural Networks to generate texts.**\n",
        "\n",
        "**The Neural Network will learn from the texts so that it can write its own texts.**\n",
        "\n",
        "\n"
      ]
    },
    {
      "cell_type": "code",
      "execution_count": 1,
      "id": "d11b8212",
      "metadata": {
        "execution": {
          "iopub.execute_input": "2021-11-27T20:25:43.058217Z",
          "iopub.status.busy": "2021-11-27T20:25:43.057664Z",
          "iopub.status.idle": "2021-11-27T20:25:47.261160Z",
          "shell.execute_reply": "2021-11-27T20:25:47.260527Z",
          "shell.execute_reply.started": "2021-11-27T20:23:28.506544Z"
        },
        "papermill": {
          "duration": 4.25407,
          "end_time": "2021-11-27T20:25:47.261312",
          "exception": false,
          "start_time": "2021-11-27T20:25:43.007242",
          "status": "completed"
        },
        "tags": [],
        "id": "d11b8212"
      },
      "outputs": [],
      "source": [
        "import tensorflow as tf\n",
        "import numpy as np\n",
        "import os\n",
        "import time\n",
        "import pandas as pd"
      ]
    },
    {
      "cell_type": "code",
      "source": [
        "!unzip \"/content/archive.zip\""
      ],
      "metadata": {
        "id": "cPgCXpu9knil"
      },
      "id": "cPgCXpu9knil",
      "execution_count": null,
      "outputs": []
    },
    {
      "cell_type": "markdown",
      "id": "840a9d25",
      "metadata": {
        "papermill": {
          "duration": 0.041086,
          "end_time": "2021-11-27T20:25:47.344271",
          "exception": false,
          "start_time": "2021-11-27T20:25:47.303185",
          "status": "completed"
        },
        "tags": [],
        "id": "840a9d25"
      },
      "source": [
        "# Database loading and exploration"
      ]
    },
    {
      "cell_type": "code",
      "execution_count": 5,
      "id": "ba36b32d",
      "metadata": {
        "execution": {
          "iopub.execute_input": "2021-11-27T20:25:47.431398Z",
          "iopub.status.busy": "2021-11-27T20:25:47.430601Z",
          "iopub.status.idle": "2021-11-27T20:25:47.432993Z",
          "shell.execute_reply": "2021-11-27T20:25:47.432526Z",
          "shell.execute_reply.started": "2021-11-27T20:23:28.514108Z"
        },
        "papermill": {
          "duration": 0.047698,
          "end_time": "2021-11-27T20:25:47.433102",
          "exception": false,
          "start_time": "2021-11-27T20:25:47.385404",
          "status": "completed"
        },
        "tags": [],
        "id": "ba36b32d"
      },
      "outputs": [],
      "source": [
        "data = '/content/alicia-keys.txt'"
      ]
    },
    {
      "cell_type": "code",
      "execution_count": 6,
      "id": "5bbcce42",
      "metadata": {
        "execution": {
          "iopub.execute_input": "2021-11-27T20:25:47.521468Z",
          "iopub.status.busy": "2021-11-27T20:25:47.520902Z",
          "iopub.status.idle": "2021-11-27T20:25:47.534364Z",
          "shell.execute_reply": "2021-11-27T20:25:47.534846Z",
          "shell.execute_reply.started": "2021-11-27T20:23:28.524318Z"
        },
        "papermill": {
          "duration": 0.059731,
          "end_time": "2021-11-27T20:25:47.534977",
          "exception": false,
          "start_time": "2021-11-27T20:25:47.475246",
          "status": "completed"
        },
        "tags": [],
        "id": "5bbcce42"
      },
      "outputs": [],
      "source": [
        "dataset_text = open(data, 'rb').read().decode(encoding = 'utf-8')"
      ]
    },
    {
      "cell_type": "code",
      "execution_count": null,
      "id": "875b4e5b",
      "metadata": {
        "execution": {
          "iopub.execute_input": "2021-11-27T20:25:47.668288Z",
          "iopub.status.busy": "2021-11-27T20:25:47.667511Z",
          "iopub.status.idle": "2021-11-27T20:25:47.679784Z",
          "shell.execute_reply": "2021-11-27T20:25:47.680904Z",
          "shell.execute_reply.started": "2021-11-27T20:23:28.543052Z"
        },
        "papermill": {
          "duration": 0.104105,
          "end_time": "2021-11-27T20:25:47.681183",
          "exception": false,
          "start_time": "2021-11-27T20:25:47.577078",
          "status": "completed"
        },
        "tags": [],
        "id": "875b4e5b"
      },
      "outputs": [],
      "source": [
        "print(dataset_text)"
      ]
    },
    {
      "cell_type": "code",
      "execution_count": 8,
      "id": "a8caa367",
      "metadata": {
        "execution": {
          "iopub.execute_input": "2021-11-27T20:25:47.797118Z",
          "iopub.status.busy": "2021-11-27T20:25:47.796432Z",
          "iopub.status.idle": "2021-11-27T20:25:47.799345Z",
          "shell.execute_reply": "2021-11-27T20:25:47.799790Z",
          "shell.execute_reply.started": "2021-11-27T20:23:28.552497Z"
        },
        "papermill": {
          "duration": 0.057059,
          "end_time": "2021-11-27T20:25:47.799919",
          "exception": false,
          "start_time": "2021-11-27T20:25:47.742860",
          "status": "completed"
        },
        "tags": [],
        "colab": {
          "base_uri": "https://localhost:8080/"
        },
        "id": "a8caa367",
        "outputId": "1f3e76ba-54e5-4204-e257-630b947986b9"
      },
      "outputs": [
        {
          "output_type": "execute_result",
          "data": {
            "text/plain": [
              "113439"
            ]
          },
          "metadata": {},
          "execution_count": 8
        }
      ],
      "source": [
        "len(dataset_text)"
      ]
    },
    {
      "cell_type": "code",
      "execution_count": 9,
      "id": "c4e558a6",
      "metadata": {
        "execution": {
          "iopub.execute_input": "2021-11-27T20:25:47.910856Z",
          "iopub.status.busy": "2021-11-27T20:25:47.910054Z",
          "iopub.status.idle": "2021-11-27T20:25:47.912008Z",
          "shell.execute_reply": "2021-11-27T20:25:47.912462Z",
          "shell.execute_reply.started": "2021-11-27T20:23:28.560999Z"
        },
        "papermill": {
          "duration": 0.05589,
          "end_time": "2021-11-27T20:25:47.912581",
          "exception": false,
          "start_time": "2021-11-27T20:25:47.856691",
          "status": "completed"
        },
        "tags": [],
        "id": "c4e558a6"
      },
      "outputs": [],
      "source": [
        "vocab = sorted(set(dataset_text))"
      ]
    },
    {
      "cell_type": "code",
      "execution_count": 10,
      "id": "39681150",
      "metadata": {
        "execution": {
          "iopub.execute_input": "2021-11-27T20:25:48.013957Z",
          "iopub.status.busy": "2021-11-27T20:25:48.013076Z",
          "iopub.status.idle": "2021-11-27T20:25:48.016165Z",
          "shell.execute_reply": "2021-11-27T20:25:48.016812Z",
          "shell.execute_reply.started": "2021-11-27T20:23:28.570642Z"
        },
        "papermill": {
          "duration": 0.056878,
          "end_time": "2021-11-27T20:25:48.016970",
          "exception": false,
          "start_time": "2021-11-27T20:25:47.960092",
          "status": "completed"
        },
        "tags": [],
        "colab": {
          "base_uri": "https://localhost:8080/"
        },
        "id": "39681150",
        "outputId": "f2aa0003-add5-477e-a62a-faea2a310c3a"
      },
      "outputs": [
        {
          "output_type": "stream",
          "name": "stdout",
          "text": [
            "76 unique characters\n"
          ]
        }
      ],
      "source": [
        "print('{} unique characters'.format(len(vocab)))"
      ]
    },
    {
      "cell_type": "code",
      "execution_count": 11,
      "id": "ca0a88b9",
      "metadata": {
        "execution": {
          "iopub.execute_input": "2021-11-27T20:25:48.117872Z",
          "iopub.status.busy": "2021-11-27T20:25:48.117059Z",
          "iopub.status.idle": "2021-11-27T20:25:48.120567Z",
          "shell.execute_reply": "2021-11-27T20:25:48.120144Z",
          "shell.execute_reply.started": "2021-11-27T20:23:28.581236Z"
        },
        "papermill": {
          "duration": 0.056122,
          "end_time": "2021-11-27T20:25:48.120671",
          "exception": false,
          "start_time": "2021-11-27T20:25:48.064549",
          "status": "completed"
        },
        "tags": [],
        "colab": {
          "base_uri": "https://localhost:8080/"
        },
        "id": "ca0a88b9",
        "outputId": "28322d2a-0781-44fb-c971-2f0c39ad2674"
      },
      "outputs": [
        {
          "output_type": "execute_result",
          "data": {
            "text/plain": [
              "['\\n',\n",
              " ' ',\n",
              " '!',\n",
              " '\"',\n",
              " '&',\n",
              " \"'\",\n",
              " '(',\n",
              " ')',\n",
              " ',',\n",
              " '-',\n",
              " '.',\n",
              " '0',\n",
              " '1',\n",
              " '2',\n",
              " '4',\n",
              " '6',\n",
              " '8',\n",
              " '9',\n",
              " ':',\n",
              " '?',\n",
              " 'A',\n",
              " 'B',\n",
              " 'C',\n",
              " 'D',\n",
              " 'E',\n",
              " 'F',\n",
              " 'G',\n",
              " 'H',\n",
              " 'I',\n",
              " 'J',\n",
              " 'K',\n",
              " 'L',\n",
              " 'M',\n",
              " 'N',\n",
              " 'O',\n",
              " 'P',\n",
              " 'R',\n",
              " 'S',\n",
              " 'T',\n",
              " 'U',\n",
              " 'V',\n",
              " 'W',\n",
              " 'Y',\n",
              " '[',\n",
              " ']',\n",
              " 'a',\n",
              " 'b',\n",
              " 'c',\n",
              " 'd',\n",
              " 'e',\n",
              " 'f',\n",
              " 'g',\n",
              " 'h',\n",
              " 'i',\n",
              " 'j',\n",
              " 'k',\n",
              " 'l',\n",
              " 'm',\n",
              " 'n',\n",
              " 'o',\n",
              " 'p',\n",
              " 'q',\n",
              " 'r',\n",
              " 's',\n",
              " 't',\n",
              " 'u',\n",
              " 'v',\n",
              " 'w',\n",
              " 'x',\n",
              " 'y',\n",
              " 'z',\n",
              " '¢',\n",
              " 'Ã',\n",
              " 'é',\n",
              " 'ó',\n",
              " 'ú']"
            ]
          },
          "metadata": {},
          "execution_count": 11
        }
      ],
      "source": [
        "vocab"
      ]
    },
    {
      "cell_type": "markdown",
      "id": "c20a1508",
      "metadata": {
        "papermill": {
          "duration": 0.046635,
          "end_time": "2021-11-27T20:25:48.214558",
          "exception": false,
          "start_time": "2021-11-27T20:25:48.167923",
          "status": "completed"
        },
        "tags": [],
        "id": "c20a1508"
      },
      "source": [
        "# Mapping text to numbers"
      ]
    },
    {
      "cell_type": "code",
      "execution_count": 12,
      "id": "cf77dae7",
      "metadata": {
        "execution": {
          "iopub.execute_input": "2021-11-27T20:25:48.313049Z",
          "iopub.status.busy": "2021-11-27T20:25:48.312346Z",
          "iopub.status.idle": "2021-11-27T20:25:48.314699Z",
          "shell.execute_reply": "2021-11-27T20:25:48.314268Z",
          "shell.execute_reply.started": "2021-11-27T20:23:28.592220Z"
        },
        "papermill": {
          "duration": 0.053294,
          "end_time": "2021-11-27T20:25:48.314825",
          "exception": false,
          "start_time": "2021-11-27T20:25:48.261531",
          "status": "completed"
        },
        "tags": [],
        "id": "cf77dae7"
      },
      "outputs": [],
      "source": [
        "char2idx = {char: index for index, char in enumerate(vocab)}"
      ]
    },
    {
      "cell_type": "code",
      "execution_count": 13,
      "id": "f66d4e83",
      "metadata": {
        "execution": {
          "iopub.execute_input": "2021-11-27T20:25:48.418726Z",
          "iopub.status.busy": "2021-11-27T20:25:48.418085Z",
          "iopub.status.idle": "2021-11-27T20:25:48.420839Z",
          "shell.execute_reply": "2021-11-27T20:25:48.421273Z",
          "shell.execute_reply.started": "2021-11-27T20:23:28.601987Z"
        },
        "papermill": {
          "duration": 0.059618,
          "end_time": "2021-11-27T20:25:48.421405",
          "exception": false,
          "start_time": "2021-11-27T20:25:48.361787",
          "status": "completed"
        },
        "tags": [],
        "colab": {
          "base_uri": "https://localhost:8080/"
        },
        "id": "f66d4e83",
        "outputId": "4ce3b865-666d-457c-c794-a2622f01fdb4"
      },
      "outputs": [
        {
          "output_type": "execute_result",
          "data": {
            "text/plain": [
              "{'\\n': 0,\n",
              " ' ': 1,\n",
              " '!': 2,\n",
              " '\"': 3,\n",
              " '&': 4,\n",
              " \"'\": 5,\n",
              " '(': 6,\n",
              " ')': 7,\n",
              " ',': 8,\n",
              " '-': 9,\n",
              " '.': 10,\n",
              " '0': 11,\n",
              " '1': 12,\n",
              " '2': 13,\n",
              " '4': 14,\n",
              " '6': 15,\n",
              " '8': 16,\n",
              " '9': 17,\n",
              " ':': 18,\n",
              " '?': 19,\n",
              " 'A': 20,\n",
              " 'B': 21,\n",
              " 'C': 22,\n",
              " 'D': 23,\n",
              " 'E': 24,\n",
              " 'F': 25,\n",
              " 'G': 26,\n",
              " 'H': 27,\n",
              " 'I': 28,\n",
              " 'J': 29,\n",
              " 'K': 30,\n",
              " 'L': 31,\n",
              " 'M': 32,\n",
              " 'N': 33,\n",
              " 'O': 34,\n",
              " 'P': 35,\n",
              " 'R': 36,\n",
              " 'S': 37,\n",
              " 'T': 38,\n",
              " 'U': 39,\n",
              " 'V': 40,\n",
              " 'W': 41,\n",
              " 'Y': 42,\n",
              " '[': 43,\n",
              " ']': 44,\n",
              " 'a': 45,\n",
              " 'b': 46,\n",
              " 'c': 47,\n",
              " 'd': 48,\n",
              " 'e': 49,\n",
              " 'f': 50,\n",
              " 'g': 51,\n",
              " 'h': 52,\n",
              " 'i': 53,\n",
              " 'j': 54,\n",
              " 'k': 55,\n",
              " 'l': 56,\n",
              " 'm': 57,\n",
              " 'n': 58,\n",
              " 'o': 59,\n",
              " 'p': 60,\n",
              " 'q': 61,\n",
              " 'r': 62,\n",
              " 's': 63,\n",
              " 't': 64,\n",
              " 'u': 65,\n",
              " 'v': 66,\n",
              " 'w': 67,\n",
              " 'x': 68,\n",
              " 'y': 69,\n",
              " 'z': 70,\n",
              " '¢': 71,\n",
              " 'Ã': 72,\n",
              " 'é': 73,\n",
              " 'ó': 74,\n",
              " 'ú': 75}"
            ]
          },
          "metadata": {},
          "execution_count": 13
        }
      ],
      "source": [
        "char2idx"
      ]
    },
    {
      "cell_type": "code",
      "execution_count": 14,
      "id": "07283513",
      "metadata": {
        "execution": {
          "iopub.execute_input": "2021-11-27T20:25:48.523471Z",
          "iopub.status.busy": "2021-11-27T20:25:48.522672Z",
          "iopub.status.idle": "2021-11-27T20:25:48.525045Z",
          "shell.execute_reply": "2021-11-27T20:25:48.524597Z",
          "shell.execute_reply.started": "2021-11-27T20:23:28.612898Z"
        },
        "papermill": {
          "duration": 0.052988,
          "end_time": "2021-11-27T20:25:48.525152",
          "exception": false,
          "start_time": "2021-11-27T20:25:48.472164",
          "status": "completed"
        },
        "tags": [],
        "id": "07283513"
      },
      "outputs": [],
      "source": [
        "idx2char = np.array(vocab)"
      ]
    },
    {
      "cell_type": "code",
      "execution_count": 15,
      "id": "1cc2be68",
      "metadata": {
        "execution": {
          "iopub.execute_input": "2021-11-27T20:25:48.623980Z",
          "iopub.status.busy": "2021-11-27T20:25:48.623437Z",
          "iopub.status.idle": "2021-11-27T20:25:48.628260Z",
          "shell.execute_reply": "2021-11-27T20:25:48.627827Z",
          "shell.execute_reply.started": "2021-11-27T20:23:28.622686Z"
        },
        "papermill": {
          "duration": 0.055707,
          "end_time": "2021-11-27T20:25:48.628367",
          "exception": false,
          "start_time": "2021-11-27T20:25:48.572660",
          "status": "completed"
        },
        "tags": [],
        "colab": {
          "base_uri": "https://localhost:8080/"
        },
        "id": "1cc2be68",
        "outputId": "41b59c39-b478-40df-a912-458b4f575d3c"
      },
      "outputs": [
        {
          "output_type": "execute_result",
          "data": {
            "text/plain": [
              "array(['\\n', ' ', '!', '\"', '&', \"'\", '(', ')', ',', '-', '.', '0', '1',\n",
              "       '2', '4', '6', '8', '9', ':', '?', 'A', 'B', 'C', 'D', 'E', 'F',\n",
              "       'G', 'H', 'I', 'J', 'K', 'L', 'M', 'N', 'O', 'P', 'R', 'S', 'T',\n",
              "       'U', 'V', 'W', 'Y', '[', ']', 'a', 'b', 'c', 'd', 'e', 'f', 'g',\n",
              "       'h', 'i', 'j', 'k', 'l', 'm', 'n', 'o', 'p', 'q', 'r', 's', 't',\n",
              "       'u', 'v', 'w', 'x', 'y', 'z', '¢', 'Ã', 'é', 'ó', 'ú'], dtype='<U1')"
            ]
          },
          "metadata": {},
          "execution_count": 15
        }
      ],
      "source": [
        "idx2char"
      ]
    },
    {
      "cell_type": "code",
      "execution_count": 16,
      "id": "5b3625e5",
      "metadata": {
        "execution": {
          "iopub.execute_input": "2021-11-27T20:25:48.728297Z",
          "iopub.status.busy": "2021-11-27T20:25:48.727635Z",
          "iopub.status.idle": "2021-11-27T20:25:48.730181Z",
          "shell.execute_reply": "2021-11-27T20:25:48.730576Z",
          "shell.execute_reply.started": "2021-11-27T20:23:28.632553Z"
        },
        "papermill": {
          "duration": 0.054589,
          "end_time": "2021-11-27T20:25:48.730688",
          "exception": false,
          "start_time": "2021-11-27T20:25:48.676099",
          "status": "completed"
        },
        "tags": [],
        "colab": {
          "base_uri": "https://localhost:8080/",
          "height": 36
        },
        "id": "5b3625e5",
        "outputId": "5f4b6e57-845d-4ae7-88fb-2b9aeb2d5e18"
      },
      "outputs": [
        {
          "output_type": "execute_result",
          "data": {
            "text/plain": [
              "'.'"
            ],
            "application/vnd.google.colaboratory.intrinsic+json": {
              "type": "string"
            }
          },
          "metadata": {},
          "execution_count": 16
        }
      ],
      "source": [
        "idx2char[10]"
      ]
    },
    {
      "cell_type": "code",
      "execution_count": 17,
      "id": "26993628",
      "metadata": {
        "execution": {
          "iopub.execute_input": "2021-11-27T20:25:48.830983Z",
          "iopub.status.busy": "2021-11-27T20:25:48.830230Z",
          "iopub.status.idle": "2021-11-27T20:25:48.833359Z",
          "shell.execute_reply": "2021-11-27T20:25:48.832930Z",
          "shell.execute_reply.started": "2021-11-27T20:23:28.643084Z"
        },
        "papermill": {
          "duration": 0.054624,
          "end_time": "2021-11-27T20:25:48.833459",
          "exception": false,
          "start_time": "2021-11-27T20:25:48.778835",
          "status": "completed"
        },
        "tags": [],
        "colab": {
          "base_uri": "https://localhost:8080/"
        },
        "id": "26993628",
        "outputId": "62b3add1-e879-4885-e349-6bcc3810160e"
      },
      "outputs": [
        {
          "output_type": "execute_result",
          "data": {
            "text/plain": [
              "18"
            ]
          },
          "metadata": {},
          "execution_count": 17
        }
      ],
      "source": [
        "char2idx[':']"
      ]
    },
    {
      "cell_type": "code",
      "execution_count": 18,
      "id": "49ed2843",
      "metadata": {
        "execution": {
          "iopub.execute_input": "2021-11-27T20:25:48.960234Z",
          "iopub.status.busy": "2021-11-27T20:25:48.959488Z",
          "iopub.status.idle": "2021-11-27T20:25:48.961393Z",
          "shell.execute_reply": "2021-11-27T20:25:48.961874Z",
          "shell.execute_reply.started": "2021-11-27T20:23:28.651777Z"
        },
        "papermill": {
          "duration": 0.08048,
          "end_time": "2021-11-27T20:25:48.962004",
          "exception": false,
          "start_time": "2021-11-27T20:25:48.881524",
          "status": "completed"
        },
        "tags": [],
        "id": "49ed2843"
      },
      "outputs": [],
      "source": [
        "text_as_int = np.array([char2idx[char] for char in dataset_text])"
      ]
    },
    {
      "cell_type": "code",
      "execution_count": 19,
      "id": "2bc12fbb",
      "metadata": {
        "execution": {
          "iopub.execute_input": "2021-11-27T20:25:49.067034Z",
          "iopub.status.busy": "2021-11-27T20:25:49.066347Z",
          "iopub.status.idle": "2021-11-27T20:25:49.068977Z",
          "shell.execute_reply": "2021-11-27T20:25:49.069402Z",
          "shell.execute_reply.started": "2021-11-27T20:23:28.685982Z"
        },
        "papermill": {
          "duration": 0.05779,
          "end_time": "2021-11-27T20:25:49.069523",
          "exception": false,
          "start_time": "2021-11-27T20:25:49.011733",
          "status": "completed"
        },
        "tags": [],
        "colab": {
          "base_uri": "https://localhost:8080/"
        },
        "id": "2bc12fbb",
        "outputId": "bf620d34-3ab7-4a05-e10c-70f5f4028ff1"
      },
      "outputs": [
        {
          "output_type": "execute_result",
          "data": {
            "text/plain": [
              "array([34, 59, 52, ..., 64, 63,  1])"
            ]
          },
          "metadata": {},
          "execution_count": 19
        }
      ],
      "source": [
        "text_as_int"
      ]
    },
    {
      "cell_type": "code",
      "execution_count": 20,
      "id": "df45d1fa",
      "metadata": {
        "execution": {
          "iopub.execute_input": "2021-11-27T20:25:49.170967Z",
          "iopub.status.busy": "2021-11-27T20:25:49.170352Z",
          "iopub.status.idle": "2021-11-27T20:25:49.172888Z",
          "shell.execute_reply": "2021-11-27T20:25:49.173305Z",
          "shell.execute_reply.started": "2021-11-27T20:23:28.695798Z"
        },
        "papermill": {
          "duration": 0.055312,
          "end_time": "2021-11-27T20:25:49.173421",
          "exception": false,
          "start_time": "2021-11-27T20:25:49.118109",
          "status": "completed"
        },
        "tags": [],
        "colab": {
          "base_uri": "https://localhost:8080/"
        },
        "id": "df45d1fa",
        "outputId": "02d6665b-1c5c-47dc-a21a-c8bb243c74e7"
      },
      "outputs": [
        {
          "output_type": "execute_result",
          "data": {
            "text/plain": [
              "(113439,)"
            ]
          },
          "metadata": {},
          "execution_count": 20
        }
      ],
      "source": [
        "text_as_int.shape"
      ]
    },
    {
      "cell_type": "code",
      "execution_count": 21,
      "id": "b1200f2b",
      "metadata": {
        "execution": {
          "iopub.execute_input": "2021-11-27T20:25:49.275588Z",
          "iopub.status.busy": "2021-11-27T20:25:49.274928Z",
          "iopub.status.idle": "2021-11-27T20:25:49.277560Z",
          "shell.execute_reply": "2021-11-27T20:25:49.278157Z",
          "shell.execute_reply.started": "2021-11-27T20:23:28.704008Z"
        },
        "papermill": {
          "duration": 0.056054,
          "end_time": "2021-11-27T20:25:49.278325",
          "exception": false,
          "start_time": "2021-11-27T20:25:49.222271",
          "status": "completed"
        },
        "tags": [],
        "colab": {
          "base_uri": "https://localhost:8080/"
        },
        "id": "b1200f2b",
        "outputId": "440108d0-c106-4cf6-dfbe-4a134d69b5f6"
      },
      "outputs": [
        {
          "output_type": "stream",
          "name": "stdout",
          "text": [
            "'Ooh....... Ne' characters mapped to int ---> [34 59 52 10 10 10 10 10 10 10  1 33 49]\n"
          ]
        }
      ],
      "source": [
        "print('{} characters mapped to int ---> {}'.format(repr(dataset_text[:13]), text_as_int[:13]))"
      ]
    },
    {
      "cell_type": "markdown",
      "id": "8f741bc9",
      "metadata": {
        "papermill": {
          "duration": 0.048761,
          "end_time": "2021-11-27T20:25:49.377103",
          "exception": false,
          "start_time": "2021-11-27T20:25:49.328342",
          "status": "completed"
        },
        "tags": [],
        "id": "8f741bc9"
      },
      "source": [
        "# Creation of training examples and batches"
      ]
    },
    {
      "cell_type": "code",
      "execution_count": 22,
      "id": "90e4a5a9",
      "metadata": {
        "execution": {
          "iopub.execute_input": "2021-11-27T20:25:49.478359Z",
          "iopub.status.busy": "2021-11-27T20:25:49.477570Z",
          "iopub.status.idle": "2021-11-27T20:25:49.482238Z",
          "shell.execute_reply": "2021-11-27T20:25:49.482694Z",
          "shell.execute_reply.started": "2021-11-27T20:23:28.713835Z"
        },
        "papermill": {
          "duration": 0.056616,
          "end_time": "2021-11-27T20:25:49.482868",
          "exception": false,
          "start_time": "2021-11-27T20:25:49.426252",
          "status": "completed"
        },
        "tags": [],
        "colab": {
          "base_uri": "https://localhost:8080/"
        },
        "id": "90e4a5a9",
        "outputId": "7d8f4ba8-7f4b-4d2c-89ab-c801d74b2a33"
      },
      "outputs": [
        {
          "output_type": "execute_result",
          "data": {
            "text/plain": [
              "113439"
            ]
          },
          "metadata": {},
          "execution_count": 22
        }
      ],
      "source": [
        "len(dataset_text)"
      ]
    },
    {
      "cell_type": "code",
      "execution_count": 23,
      "id": "e0bbf7d9",
      "metadata": {
        "execution": {
          "iopub.execute_input": "2021-11-27T20:25:49.588133Z",
          "iopub.status.busy": "2021-11-27T20:25:49.587485Z",
          "iopub.status.idle": "2021-11-27T20:25:49.589972Z",
          "shell.execute_reply": "2021-11-27T20:25:49.590481Z",
          "shell.execute_reply.started": "2021-11-27T20:23:28.721443Z"
        },
        "papermill": {
          "duration": 0.057098,
          "end_time": "2021-11-27T20:25:49.590597",
          "exception": false,
          "start_time": "2021-11-27T20:25:49.533499",
          "status": "completed"
        },
        "tags": [],
        "colab": {
          "base_uri": "https://localhost:8080/"
        },
        "id": "e0bbf7d9",
        "outputId": "2ee9454f-37d2-4d07-cf78-87a73d1aeca3"
      },
      "outputs": [
        {
          "output_type": "execute_result",
          "data": {
            "text/plain": [
              "1134"
            ]
          },
          "metadata": {},
          "execution_count": 23
        }
      ],
      "source": [
        "seq_length = 100\n",
        "examples_per_epoch = len(dataset_text) // seq_length\n",
        "examples_per_epoch"
      ]
    },
    {
      "cell_type": "code",
      "execution_count": 24,
      "id": "986bda47",
      "metadata": {
        "execution": {
          "iopub.execute_input": "2021-11-27T20:25:49.693390Z",
          "iopub.status.busy": "2021-11-27T20:25:49.692591Z",
          "iopub.status.idle": "2021-11-27T20:25:52.149429Z",
          "shell.execute_reply": "2021-11-27T20:25:52.148770Z",
          "shell.execute_reply.started": "2021-11-27T20:23:28.729457Z"
        },
        "papermill": {
          "duration": 2.509158,
          "end_time": "2021-11-27T20:25:52.149596",
          "exception": false,
          "start_time": "2021-11-27T20:25:49.640438",
          "status": "completed"
        },
        "tags": [],
        "id": "986bda47"
      },
      "outputs": [],
      "source": [
        "char_dataset = tf.data.Dataset.from_tensor_slices(text_as_int)"
      ]
    },
    {
      "cell_type": "code",
      "execution_count": 25,
      "id": "30229079",
      "metadata": {
        "execution": {
          "iopub.execute_input": "2021-11-27T20:25:52.255072Z",
          "iopub.status.busy": "2021-11-27T20:25:52.254416Z",
          "iopub.status.idle": "2021-11-27T20:25:52.257053Z",
          "shell.execute_reply": "2021-11-27T20:25:52.257462Z",
          "shell.execute_reply.started": "2021-11-27T20:23:28.738327Z"
        },
        "papermill": {
          "duration": 0.057286,
          "end_time": "2021-11-27T20:25:52.257580",
          "exception": false,
          "start_time": "2021-11-27T20:25:52.200294",
          "status": "completed"
        },
        "tags": [],
        "colab": {
          "base_uri": "https://localhost:8080/"
        },
        "id": "30229079",
        "outputId": "d9f0333e-3e5b-4c0a-c866-5e21a25c7846"
      },
      "outputs": [
        {
          "output_type": "execute_result",
          "data": {
            "text/plain": [
              "<TensorSliceDataset element_spec=TensorSpec(shape=(), dtype=tf.int64, name=None)>"
            ]
          },
          "metadata": {},
          "execution_count": 25
        }
      ],
      "source": [
        "char_dataset"
      ]
    },
    {
      "cell_type": "code",
      "execution_count": 26,
      "id": "442106be",
      "metadata": {
        "execution": {
          "iopub.execute_input": "2021-11-27T20:25:52.361752Z",
          "iopub.status.busy": "2021-11-27T20:25:52.361215Z",
          "iopub.status.idle": "2021-11-27T20:25:52.365093Z",
          "shell.execute_reply": "2021-11-27T20:25:52.365518Z",
          "shell.execute_reply.started": "2021-11-27T20:23:28.747759Z"
        },
        "papermill": {
          "duration": 0.058581,
          "end_time": "2021-11-27T20:25:52.365636",
          "exception": false,
          "start_time": "2021-11-27T20:25:52.307055",
          "status": "completed"
        },
        "tags": [],
        "id": "442106be"
      },
      "outputs": [],
      "source": [
        "sequences = char_dataset.batch(seq_length + 1, drop_remainder=True)"
      ]
    },
    {
      "cell_type": "code",
      "execution_count": 27,
      "id": "fb5c5927",
      "metadata": {
        "execution": {
          "iopub.execute_input": "2021-11-27T20:25:52.469394Z",
          "iopub.status.busy": "2021-11-27T20:25:52.468812Z",
          "iopub.status.idle": "2021-11-27T20:25:52.471313Z",
          "shell.execute_reply": "2021-11-27T20:25:52.471732Z",
          "shell.execute_reply.started": "2021-11-27T20:23:28.754634Z"
        },
        "papermill": {
          "duration": 0.056594,
          "end_time": "2021-11-27T20:25:52.471872",
          "exception": false,
          "start_time": "2021-11-27T20:25:52.415278",
          "status": "completed"
        },
        "tags": [],
        "colab": {
          "base_uri": "https://localhost:8080/"
        },
        "id": "fb5c5927",
        "outputId": "de163646-5b7a-4575-9ad1-007cd8a5a18a"
      },
      "outputs": [
        {
          "output_type": "execute_result",
          "data": {
            "text/plain": [
              "<BatchDataset element_spec=TensorSpec(shape=(101,), dtype=tf.int64, name=None)>"
            ]
          },
          "metadata": {},
          "execution_count": 27
        }
      ],
      "source": [
        "sequences"
      ]
    },
    {
      "cell_type": "code",
      "execution_count": 28,
      "id": "14fbaef8",
      "metadata": {
        "execution": {
          "iopub.execute_input": "2021-11-27T20:25:52.576293Z",
          "iopub.status.busy": "2021-11-27T20:25:52.575744Z",
          "iopub.status.idle": "2021-11-27T20:25:52.638825Z",
          "shell.execute_reply": "2021-11-27T20:25:52.639253Z",
          "shell.execute_reply.started": "2021-11-27T20:23:28.765028Z"
        },
        "papermill": {
          "duration": 0.117611,
          "end_time": "2021-11-27T20:25:52.639386",
          "exception": false,
          "start_time": "2021-11-27T20:25:52.521775",
          "status": "completed"
        },
        "tags": [],
        "colab": {
          "base_uri": "https://localhost:8080/"
        },
        "id": "14fbaef8",
        "outputId": "2297b914-6b4a-4c37-99ee-eda7d7515743"
      },
      "outputs": [
        {
          "output_type": "stream",
          "name": "stdout",
          "text": [
            "'Ooh....... New York x2 Grew up in a town that is famous as a place of movie scenes\\nNoise is always lo'\n",
            "'ud, there are sirens all around and the streets are mean\\nIf I can make it here, I can make it anywher'\n",
            "\"e, that's what they say\\nSeeing my face in lights or my name on marquees found down on Broadway Even i\"\n",
            "\"f it ain't all it seems, I got a pocket full of dreams\\nBaby, I'm from New York\\nConcrete jungle where \"\n",
            "\"dreams are made of\\nThere's nothing you can't do\\nNow you're in New York\\nThese streets will make you fe\"\n",
            "'el brand new\\nBig lights will inspire you\\nHear it from New York, New York, New York! On the avenue, th'\n",
            "\"ere ain't never a curfew, ladies work so hard\\nSuch a melting pot, on the corner selling rock, preache\"\n",
            "'rs pray to God\\nHail a gypsy-cab, takes me down from Harlem to the Brooklyn Bridge\\nSome will sleep ton'\n",
            "\"ight with a hunger far more than an empty fridge I'm gonna make it by any means, I got a pocket full \"\n",
            "\"of dreams\\nBaby, I'm from New York\\nConcrete jungle where dreams are made of\\nThere's nothing you can't \"\n",
            "\"do\\nNow you're in New York\\nThese streets will make you feel brand new\\nBig lights will inspire you\\nHear\"\n",
            "' it from New York, New York, New York! One hand in the air for the big city,\\nStreet lights, big dream'\n",
            "'s all looking pretty\\nNo place in the world that can compare\\nPut your lighters in the air, everybody s'\n",
            "\"ay yeah, yeah, yeah, yeah In New York\\nConcrete jungle where dreams are made of\\nThere's nothing you ca\"\n",
            "\"n't do\\nNow you're in New York\\nThese streets will make you feel brand new\\nBig lights will inspire you\\n\"\n",
            "\"Hear it from New York! She's just a girl, and she's on fire\\nHotter than a fantasy, longer like a high\"\n",
            "\"way\\nShe's living in a world, and it's on fire\\nFeeling the catastrophe, but she knows she can fly away\"\n",
            "\"\\nOh, she got both feet on the ground\\nAnd she's burning it down\\nOh, she got her head in the clouds\\nAnd\"\n",
            "\" she's not backing down This girl is on fire\\nThis girl is on fire\\nShe's walking on fire\\nThis girl is \"\n",
            "\"on fire Looks like a girl, but she's a flame\\nSo bright, she can burn your eyes\\nBetter look the other \"\n",
            "\"way\\nYou can try but you'll never forget her name\\nShe's on top of the world\\nHottest of the hottest gir\"\n",
            "\"ls say\\nOh, we got our feet on the ground\\nAnd we're burning it down\\nOh, got our head in the clouds\\nAnd\"\n",
            "\" we're not coming down This girl is on fire\\nThis girl is on fire\\nShe's walking on fire\\nThis girl is o\"\n",
            "\"n fire Everybody stands, as she goes by\\nCause they can see the flame that's in her eyes\\nWatch her whe\"\n",
            "\"n she's lighting up the night\\nNobody knows that she's a lonely girl\\nAnd it's a lonely world\\nBut she g\"\n",
            "\"on' let it burn, baby, burn, baby This girl is on fire\\nThis girl is on fire\\nShe's walking on fire\\nThi\"\n",
            "\"s girl is on fire\\nOh, oh, oh,\\nShe's just a girl, and she's on fire I just want you close\\nWhere you ca\"\n",
            "'n stay forever\\nYou can be sure\\nThat it will only get better You and me together\\nThrough the days and '\n",
            "\"nights\\nI don't worry 'cause\\nEverything's going to be alright\\nPeople keep talking they can say what th\"\n",
            "\"ey like\\nBut all I know is everything's going to be alright No one, no one, no one\\nCan get in the way \"\n",
            "\"of what I'm feeling\\nNo one, no one, no one\\nCan get in the way of what I feel for you, you, you\\nCan ge\"\n",
            "'t in the way of what I feel for you When the rain is pouring down\\nAnd my heart is hurting\\nYou will al'\n",
            "\"ways be around\\nThis I know for certain\\nYou and me together\\nThrough the days and nights I don't worry \"\n",
            "\"'cause\\nEverything's going to be alright\\nPeople keep talking they can say what they like\\nBut all I kno\"\n",
            "\"w is everything's going to be alright No one, no one, no one\\nCan get in the way of what I'm feeling\\nN\"\n",
            "'o one, no one, no one\\nCan get in the way of what I feel for you, you, you\\nCan get in the way of what '\n",
            "'I feel for you I know some people search the world\\nTo find something like what we have\\nI know people '\n",
            "\"will try try to divide something so real\\nSo til the end of time I'm telling you there is no one No on\"\n",
            "\"e, no one, no one\\nCan get in the way of what I'm feeling\\nNo one, no one, no one\\nCan get in the way of\"\n",
            "' what I feel for you, you, you Oh oh oh oh\\nOh oh oh oh\\nOh oh oh oh\\nOh oh oh oh\\nOh oh oh oh Some peopl'\n",
            "'e live for the fortune\\nSome people live just for the fame\\nSome people live for the power, yeah\\nSome p'\n",
            "\"eople live just to play the game Some people think that the physical things define what's within\\nAnd \"\n",
            "\"I've been there before, and that life's a bore\\nSo full of the superficial Some people want it all\\nBut\"\n",
            "\" I don't want nothing at all\\nIf it ain't you baby\\nIf I ain't got you baby\\nSome people want diamond ri\"\n",
            "\"ngs\\nSome just want everything\\nBut everything means nothing\\nIf I ain't got you, yeah Some people searc\"\n",
            "\"h for a fountain\\nThat promises forever young\\nSome people need three dozen roses\\nAnd that's the only w\"\n",
            "'ay to prove you love them Hand me the world on a silver platter\\nAnd what good would it be\\nWith no one'\n",
            "\" to share, with no one who truly cares for me Some people want it all\\nBut I don't want nothing at all\"\n",
            "\"\\nIf it ain't you baby\\nIf I ain't got you baby\\nSome people want diamond rings\\nSome just want everythin\"\n",
            "\"g\\nBut everything means nothing\\nIf I ain't got you Some people want it all\\nBut I don't want nothing at\"\n"
          ]
        }
      ],
      "source": [
        "for item in sequences.take(50):\n",
        "  print(repr(''.join(idx2char[item.numpy()])))"
      ]
    },
    {
      "cell_type": "code",
      "execution_count": 29,
      "id": "fe636af9",
      "metadata": {
        "execution": {
          "iopub.execute_input": "2021-11-27T20:25:52.744824Z",
          "iopub.status.busy": "2021-11-27T20:25:52.744148Z",
          "iopub.status.idle": "2021-11-27T20:25:52.746740Z",
          "shell.execute_reply": "2021-11-27T20:25:52.746279Z",
          "shell.execute_reply.started": "2021-11-27T20:23:28.801115Z"
        },
        "papermill": {
          "duration": 0.056353,
          "end_time": "2021-11-27T20:25:52.746850",
          "exception": false,
          "start_time": "2021-11-27T20:25:52.690497",
          "status": "completed"
        },
        "tags": [],
        "id": "fe636af9"
      },
      "outputs": [],
      "source": [
        "def split_input_target(chunk):\n",
        "  input_text = chunk[:-1]\n",
        "  target_text = chunk[1:]\n",
        "  return input_text, target_text"
      ]
    },
    {
      "cell_type": "code",
      "execution_count": 30,
      "id": "03c5741d",
      "metadata": {
        "execution": {
          "iopub.execute_input": "2021-11-27T20:25:52.853894Z",
          "iopub.status.busy": "2021-11-27T20:25:52.853117Z",
          "iopub.status.idle": "2021-11-27T20:25:52.916624Z",
          "shell.execute_reply": "2021-11-27T20:25:52.916196Z",
          "shell.execute_reply.started": "2021-11-27T20:23:28.806942Z"
        },
        "papermill": {
          "duration": 0.119254,
          "end_time": "2021-11-27T20:25:52.916769",
          "exception": false,
          "start_time": "2021-11-27T20:25:52.797515",
          "status": "completed"
        },
        "tags": [],
        "id": "03c5741d"
      },
      "outputs": [],
      "source": [
        "dataset = sequences.map(split_input_target)"
      ]
    },
    {
      "cell_type": "code",
      "execution_count": 31,
      "id": "7a0f5d6d",
      "metadata": {
        "execution": {
          "iopub.execute_input": "2021-11-27T20:25:53.026041Z",
          "iopub.status.busy": "2021-11-27T20:25:53.025217Z",
          "iopub.status.idle": "2021-11-27T20:25:53.089136Z",
          "shell.execute_reply": "2021-11-27T20:25:53.088518Z",
          "shell.execute_reply.started": "2021-11-27T20:23:28.835640Z"
        },
        "papermill": {
          "duration": 0.121655,
          "end_time": "2021-11-27T20:25:53.089280",
          "exception": false,
          "start_time": "2021-11-27T20:25:52.967625",
          "status": "completed"
        },
        "tags": [],
        "colab": {
          "base_uri": "https://localhost:8080/"
        },
        "id": "7a0f5d6d",
        "outputId": "7f6f5c4b-b278-4a3d-fff3-b3215929e091"
      },
      "outputs": [
        {
          "output_type": "stream",
          "name": "stdout",
          "text": [
            "Input data: 'Ooh....... New York x2 Grew up in a town that is famous as a place of movie scenes\\nNoise is always l'\n",
            "Target data: 'oh....... New York x2 Grew up in a town that is famous as a place of movie scenes\\nNoise is always lo'\n",
            "Input data: 'ud, there are sirens all around and the streets are mean\\nIf I can make it here, I can make it anywhe'\n",
            "Target data: 'd, there are sirens all around and the streets are mean\\nIf I can make it here, I can make it anywher'\n",
            "Input data: \"e, that's what they say\\nSeeing my face in lights or my name on marquees found down on Broadway Even \"\n",
            "Target data: \", that's what they say\\nSeeing my face in lights or my name on marquees found down on Broadway Even i\"\n",
            "Input data: \"f it ain't all it seems, I got a pocket full of dreams\\nBaby, I'm from New York\\nConcrete jungle where\"\n",
            "Target data: \" it ain't all it seems, I got a pocket full of dreams\\nBaby, I'm from New York\\nConcrete jungle where \"\n",
            "Input data: \"dreams are made of\\nThere's nothing you can't do\\nNow you're in New York\\nThese streets will make you f\"\n",
            "Target data: \"reams are made of\\nThere's nothing you can't do\\nNow you're in New York\\nThese streets will make you fe\"\n",
            "Input data: 'el brand new\\nBig lights will inspire you\\nHear it from New York, New York, New York! On the avenue, t'\n",
            "Target data: 'l brand new\\nBig lights will inspire you\\nHear it from New York, New York, New York! On the avenue, th'\n",
            "Input data: \"ere ain't never a curfew, ladies work so hard\\nSuch a melting pot, on the corner selling rock, preach\"\n",
            "Target data: \"re ain't never a curfew, ladies work so hard\\nSuch a melting pot, on the corner selling rock, preache\"\n",
            "Input data: 'rs pray to God\\nHail a gypsy-cab, takes me down from Harlem to the Brooklyn Bridge\\nSome will sleep to'\n",
            "Target data: 's pray to God\\nHail a gypsy-cab, takes me down from Harlem to the Brooklyn Bridge\\nSome will sleep ton'\n",
            "Input data: \"ight with a hunger far more than an empty fridge I'm gonna make it by any means, I got a pocket full\"\n",
            "Target data: \"ght with a hunger far more than an empty fridge I'm gonna make it by any means, I got a pocket full \"\n",
            "Input data: \"of dreams\\nBaby, I'm from New York\\nConcrete jungle where dreams are made of\\nThere's nothing you can't\"\n",
            "Target data: \"f dreams\\nBaby, I'm from New York\\nConcrete jungle where dreams are made of\\nThere's nothing you can't \"\n"
          ]
        }
      ],
      "source": [
        "for input_example, target_example in dataset.take(10):\n",
        "  print('Input data:', repr(''.join(idx2char[input_example.numpy()])))\n",
        "  print('Target data:', repr(''.join(idx2char[target_example.numpy()])))"
      ]
    },
    {
      "cell_type": "code",
      "execution_count": 32,
      "id": "bcb857b1",
      "metadata": {
        "execution": {
          "iopub.execute_input": "2021-11-27T20:25:53.196866Z",
          "iopub.status.busy": "2021-11-27T20:25:53.196081Z",
          "iopub.status.idle": "2021-11-27T20:25:53.198112Z",
          "shell.execute_reply": "2021-11-27T20:25:53.198483Z",
          "shell.execute_reply.started": "2021-11-27T20:23:28.863486Z"
        },
        "papermill": {
          "duration": 0.057005,
          "end_time": "2021-11-27T20:25:53.198611",
          "exception": false,
          "start_time": "2021-11-27T20:25:53.141606",
          "status": "completed"
        },
        "tags": [],
        "id": "bcb857b1"
      },
      "outputs": [],
      "source": [
        "batch_size = 64\n",
        "buffer_size = 10000"
      ]
    },
    {
      "cell_type": "code",
      "execution_count": 33,
      "id": "6ca4ee19",
      "metadata": {
        "execution": {
          "iopub.execute_input": "2021-11-27T20:25:53.305734Z",
          "iopub.status.busy": "2021-11-27T20:25:53.305196Z",
          "iopub.status.idle": "2021-11-27T20:25:53.310634Z",
          "shell.execute_reply": "2021-11-27T20:25:53.310188Z",
          "shell.execute_reply.started": "2021-11-27T20:23:28.869456Z"
        },
        "papermill": {
          "duration": 0.06037,
          "end_time": "2021-11-27T20:25:53.310764",
          "exception": false,
          "start_time": "2021-11-27T20:25:53.250394",
          "status": "completed"
        },
        "tags": [],
        "id": "6ca4ee19"
      },
      "outputs": [],
      "source": [
        "dataset = dataset.shuffle(buffer_size).batch(batch_size, drop_remainder = True)"
      ]
    },
    {
      "cell_type": "code",
      "execution_count": 34,
      "id": "3478fdbe",
      "metadata": {
        "execution": {
          "iopub.execute_input": "2021-11-27T20:25:53.417936Z",
          "iopub.status.busy": "2021-11-27T20:25:53.417232Z",
          "iopub.status.idle": "2021-11-27T20:25:53.419763Z",
          "shell.execute_reply": "2021-11-27T20:25:53.420249Z",
          "shell.execute_reply.started": "2021-11-27T20:23:28.877875Z"
        },
        "papermill": {
          "duration": 0.058479,
          "end_time": "2021-11-27T20:25:53.420378",
          "exception": false,
          "start_time": "2021-11-27T20:25:53.361899",
          "status": "completed"
        },
        "tags": [],
        "colab": {
          "base_uri": "https://localhost:8080/"
        },
        "id": "3478fdbe",
        "outputId": "245ac340-6ba3-4df5-8e00-fdb367b02c64"
      },
      "outputs": [
        {
          "output_type": "execute_result",
          "data": {
            "text/plain": [
              "<BatchDataset element_spec=(TensorSpec(shape=(64, 100), dtype=tf.int64, name=None), TensorSpec(shape=(64, 100), dtype=tf.int64, name=None))>"
            ]
          },
          "metadata": {},
          "execution_count": 34
        }
      ],
      "source": [
        "dataset"
      ]
    },
    {
      "cell_type": "markdown",
      "id": "91073a8d",
      "metadata": {
        "papermill": {
          "duration": 0.051524,
          "end_time": "2021-11-27T20:25:53.523455",
          "exception": false,
          "start_time": "2021-11-27T20:25:53.471931",
          "status": "completed"
        },
        "tags": [],
        "id": "91073a8d"
      },
      "source": [
        "# Model building"
      ]
    },
    {
      "cell_type": "code",
      "execution_count": 35,
      "id": "8f9c88a3",
      "metadata": {
        "execution": {
          "iopub.execute_input": "2021-11-27T20:25:53.634990Z",
          "iopub.status.busy": "2021-11-27T20:25:53.634224Z",
          "iopub.status.idle": "2021-11-27T20:25:53.637574Z",
          "shell.execute_reply": "2021-11-27T20:25:53.637177Z",
          "shell.execute_reply.started": "2021-11-27T20:23:28.886540Z"
        },
        "papermill": {
          "duration": 0.059587,
          "end_time": "2021-11-27T20:25:53.637680",
          "exception": false,
          "start_time": "2021-11-27T20:25:53.578093",
          "status": "completed"
        },
        "tags": [],
        "colab": {
          "base_uri": "https://localhost:8080/"
        },
        "id": "8f9c88a3",
        "outputId": "2a6d432b-4d14-478c-e2a7-a7349ba18ab2"
      },
      "outputs": [
        {
          "output_type": "execute_result",
          "data": {
            "text/plain": [
              "76"
            ]
          },
          "metadata": {},
          "execution_count": 35
        }
      ],
      "source": [
        "len(vocab)"
      ]
    },
    {
      "cell_type": "code",
      "execution_count": 36,
      "id": "d2ea127b",
      "metadata": {
        "execution": {
          "iopub.execute_input": "2021-11-27T20:25:53.744669Z",
          "iopub.status.busy": "2021-11-27T20:25:53.743936Z",
          "iopub.status.idle": "2021-11-27T20:25:53.745914Z",
          "shell.execute_reply": "2021-11-27T20:25:53.746293Z",
          "shell.execute_reply.started": "2021-11-27T20:23:28.894570Z"
        },
        "papermill": {
          "duration": 0.057059,
          "end_time": "2021-11-27T20:25:53.746414",
          "exception": false,
          "start_time": "2021-11-27T20:25:53.689355",
          "status": "completed"
        },
        "tags": [],
        "id": "d2ea127b"
      },
      "outputs": [],
      "source": [
        "vocab_size = len(vocab)"
      ]
    },
    {
      "cell_type": "code",
      "execution_count": 37,
      "id": "83c16bce",
      "metadata": {
        "execution": {
          "iopub.execute_input": "2021-11-27T20:25:53.866828Z",
          "iopub.status.busy": "2021-11-27T20:25:53.865998Z",
          "iopub.status.idle": "2021-11-27T20:25:53.867863Z",
          "shell.execute_reply": "2021-11-27T20:25:53.868297Z",
          "shell.execute_reply.started": "2021-11-27T20:23:28.901685Z"
        },
        "papermill": {
          "duration": 0.061012,
          "end_time": "2021-11-27T20:25:53.868418",
          "exception": false,
          "start_time": "2021-11-27T20:25:53.807406",
          "status": "completed"
        },
        "tags": [],
        "id": "83c16bce"
      },
      "outputs": [],
      "source": [
        "embedding_dim = 256"
      ]
    },
    {
      "cell_type": "code",
      "execution_count": 38,
      "id": "be7f44ec",
      "metadata": {
        "execution": {
          "iopub.execute_input": "2021-11-27T20:25:53.977060Z",
          "iopub.status.busy": "2021-11-27T20:25:53.976320Z",
          "iopub.status.idle": "2021-11-27T20:25:53.978767Z",
          "shell.execute_reply": "2021-11-27T20:25:53.978313Z",
          "shell.execute_reply.started": "2021-11-27T20:23:28.909154Z"
        },
        "papermill": {
          "duration": 0.058274,
          "end_time": "2021-11-27T20:25:53.978874",
          "exception": false,
          "start_time": "2021-11-27T20:25:53.920600",
          "status": "completed"
        },
        "tags": [],
        "id": "be7f44ec"
      },
      "outputs": [],
      "source": [
        "rnn_units = 1024"
      ]
    },
    {
      "cell_type": "code",
      "execution_count": 39,
      "id": "63135065",
      "metadata": {
        "execution": {
          "iopub.execute_input": "2021-11-27T20:25:54.090661Z",
          "iopub.status.busy": "2021-11-27T20:25:54.090014Z",
          "iopub.status.idle": "2021-11-27T20:25:54.092117Z",
          "shell.execute_reply": "2021-11-27T20:25:54.092552Z",
          "shell.execute_reply.started": "2021-11-27T20:23:28.916815Z"
        },
        "papermill": {
          "duration": 0.061238,
          "end_time": "2021-11-27T20:25:54.092670",
          "exception": false,
          "start_time": "2021-11-27T20:25:54.031432",
          "status": "completed"
        },
        "tags": [],
        "id": "63135065"
      },
      "outputs": [],
      "source": [
        "def build_model(vocab_size, embedding_dim, rnn_units, batch_size):\n",
        "  model = tf.keras.Sequential([tf.keras.layers.Embedding(vocab_size, embedding_dim, batch_input_shape=[batch_size, None]),\n",
        "                               tf.keras.layers.LSTM(rnn_units, return_sequences=True, stateful=True, recurrent_initializer='glorot_uniform'),\n",
        "                               tf.keras.layers.Dense(vocab_size)])\n",
        "  return model"
      ]
    },
    {
      "cell_type": "code",
      "execution_count": 40,
      "id": "42ac094c",
      "metadata": {
        "execution": {
          "iopub.execute_input": "2021-11-27T20:25:54.202474Z",
          "iopub.status.busy": "2021-11-27T20:25:54.201897Z",
          "iopub.status.idle": "2021-11-27T20:25:55.278690Z",
          "shell.execute_reply": "2021-11-27T20:25:55.278206Z",
          "shell.execute_reply.started": "2021-11-27T20:23:28.925612Z"
        },
        "papermill": {
          "duration": 1.131419,
          "end_time": "2021-11-27T20:25:55.278858",
          "exception": false,
          "start_time": "2021-11-27T20:25:54.147439",
          "status": "completed"
        },
        "tags": [],
        "id": "42ac094c"
      },
      "outputs": [],
      "source": [
        "model = build_model(vocab_size = len(vocab), embedding_dim=embedding_dim, rnn_units=rnn_units, batch_size=batch_size)"
      ]
    },
    {
      "cell_type": "code",
      "execution_count": 41,
      "id": "60db6aa5",
      "metadata": {
        "execution": {
          "iopub.execute_input": "2021-11-27T20:25:55.387862Z",
          "iopub.status.busy": "2021-11-27T20:25:55.387031Z",
          "iopub.status.idle": "2021-11-27T20:25:57.726244Z",
          "shell.execute_reply": "2021-11-27T20:25:57.727001Z",
          "shell.execute_reply.started": "2021-11-27T20:23:29.149186Z"
        },
        "papermill": {
          "duration": 2.396033,
          "end_time": "2021-11-27T20:25:57.727200",
          "exception": false,
          "start_time": "2021-11-27T20:25:55.331167",
          "status": "completed"
        },
        "tags": [],
        "colab": {
          "base_uri": "https://localhost:8080/"
        },
        "id": "60db6aa5",
        "outputId": "7d1ebfdf-01e2-46ed-8ad8-122ff804be21"
      },
      "outputs": [
        {
          "output_type": "stream",
          "name": "stdout",
          "text": [
            "(64, 100, 76)\n",
            "(64, 100, 76)\n",
            "(64, 100, 76)\n",
            "(64, 100, 76)\n",
            "(64, 100, 76)\n",
            "(64, 100, 76)\n",
            "(64, 100, 76)\n",
            "(64, 100, 76)\n",
            "(64, 100, 76)\n",
            "(64, 100, 76)\n"
          ]
        }
      ],
      "source": [
        "for input_example_batch, target_example_batch in dataset.take(10):\n",
        "  example_batch_predictions = model(input_example_batch)\n",
        "  print(example_batch_predictions.shape)"
      ]
    },
    {
      "cell_type": "code",
      "execution_count": 42,
      "id": "25ca478d",
      "metadata": {
        "execution": {
          "iopub.execute_input": "2021-11-27T20:25:57.839756Z",
          "iopub.status.busy": "2021-11-27T20:25:57.839104Z",
          "iopub.status.idle": "2021-11-27T20:25:57.843347Z",
          "shell.execute_reply": "2021-11-27T20:25:57.843742Z",
          "shell.execute_reply.started": "2021-11-27T20:23:29.540041Z"
        },
        "papermill": {
          "duration": 0.062314,
          "end_time": "2021-11-27T20:25:57.843882",
          "exception": false,
          "start_time": "2021-11-27T20:25:57.781568",
          "status": "completed"
        },
        "tags": [],
        "id": "25ca478d"
      },
      "outputs": [],
      "source": [
        "sampled_indices = tf.random.categorical(example_batch_predictions[0], num_samples=1)"
      ]
    },
    {
      "cell_type": "code",
      "execution_count": 43,
      "id": "64110f6f",
      "metadata": {
        "execution": {
          "iopub.execute_input": "2021-11-27T20:25:57.957879Z",
          "iopub.status.busy": "2021-11-27T20:25:57.956619Z",
          "iopub.status.idle": "2021-11-27T20:25:57.959843Z",
          "shell.execute_reply": "2021-11-27T20:25:57.960251Z",
          "shell.execute_reply.started": "2021-11-27T20:23:29.547381Z"
        },
        "papermill": {
          "duration": 0.062851,
          "end_time": "2021-11-27T20:25:57.960387",
          "exception": false,
          "start_time": "2021-11-27T20:25:57.897536",
          "status": "completed"
        },
        "tags": [],
        "colab": {
          "base_uri": "https://localhost:8080/"
        },
        "id": "64110f6f",
        "outputId": "405cbcd3-c439-4aa4-a0d2-cf099222e944"
      },
      "outputs": [
        {
          "output_type": "execute_result",
          "data": {
            "text/plain": [
              "<tf.Tensor: shape=(100, 1), dtype=int64, numpy=\n",
              "array([[43],\n",
              "       [65],\n",
              "       [20],\n",
              "       [ 7],\n",
              "       [ 4],\n",
              "       [72],\n",
              "       [30],\n",
              "       [ 8],\n",
              "       [ 1],\n",
              "       [24],\n",
              "       [53],\n",
              "       [46],\n",
              "       [52],\n",
              "       [ 9],\n",
              "       [18],\n",
              "       [49],\n",
              "       [71],\n",
              "       [16],\n",
              "       [20],\n",
              "       [56],\n",
              "       [ 8],\n",
              "       [50],\n",
              "       [51],\n",
              "       [27],\n",
              "       [ 9],\n",
              "       [45],\n",
              "       [41],\n",
              "       [67],\n",
              "       [39],\n",
              "       [62],\n",
              "       [ 4],\n",
              "       [ 6],\n",
              "       [29],\n",
              "       [14],\n",
              "       [31],\n",
              "       [40],\n",
              "       [72],\n",
              "       [ 6],\n",
              "       [27],\n",
              "       [56],\n",
              "       [36],\n",
              "       [ 4],\n",
              "       [15],\n",
              "       [53],\n",
              "       [69],\n",
              "       [42],\n",
              "       [67],\n",
              "       [41],\n",
              "       [72],\n",
              "       [43],\n",
              "       [74],\n",
              "       [40],\n",
              "       [42],\n",
              "       [22],\n",
              "       [33],\n",
              "       [28],\n",
              "       [56],\n",
              "       [37],\n",
              "       [40],\n",
              "       [60],\n",
              "       [14],\n",
              "       [60],\n",
              "       [36],\n",
              "       [60],\n",
              "       [70],\n",
              "       [ 8],\n",
              "       [67],\n",
              "       [32],\n",
              "       [63],\n",
              "       [47],\n",
              "       [46],\n",
              "       [12],\n",
              "       [ 3],\n",
              "       [48],\n",
              "       [50],\n",
              "       [38],\n",
              "       [74],\n",
              "       [57],\n",
              "       [ 0],\n",
              "       [42],\n",
              "       [69],\n",
              "       [16],\n",
              "       [16],\n",
              "       [68],\n",
              "       [16],\n",
              "       [56],\n",
              "       [24],\n",
              "       [67],\n",
              "       [49],\n",
              "       [41],\n",
              "       [59],\n",
              "       [40],\n",
              "       [65],\n",
              "       [42],\n",
              "       [17],\n",
              "       [25],\n",
              "       [45],\n",
              "       [12],\n",
              "       [28],\n",
              "       [ 2]])>"
            ]
          },
          "metadata": {},
          "execution_count": 43
        }
      ],
      "source": [
        "sampled_indices"
      ]
    },
    {
      "cell_type": "code",
      "execution_count": 44,
      "id": "477c61b1",
      "metadata": {
        "execution": {
          "iopub.execute_input": "2021-11-27T20:25:58.070780Z",
          "iopub.status.busy": "2021-11-27T20:25:58.070091Z",
          "iopub.status.idle": "2021-11-27T20:25:58.072481Z",
          "shell.execute_reply": "2021-11-27T20:25:58.072937Z",
          "shell.execute_reply.started": "2021-11-27T20:23:29.559227Z"
        },
        "papermill": {
          "duration": 0.060248,
          "end_time": "2021-11-27T20:25:58.073059",
          "exception": false,
          "start_time": "2021-11-27T20:25:58.012811",
          "status": "completed"
        },
        "tags": [],
        "id": "477c61b1"
      },
      "outputs": [],
      "source": [
        "sampled_indices = tf.squeeze(sampled_indices, axis = -1).numpy()"
      ]
    },
    {
      "cell_type": "code",
      "execution_count": 45,
      "id": "2586d487",
      "metadata": {
        "execution": {
          "iopub.execute_input": "2021-11-27T20:25:58.184276Z",
          "iopub.status.busy": "2021-11-27T20:25:58.183658Z",
          "iopub.status.idle": "2021-11-27T20:25:58.186241Z",
          "shell.execute_reply": "2021-11-27T20:25:58.186652Z",
          "shell.execute_reply.started": "2021-11-27T20:23:29.569443Z"
        },
        "papermill": {
          "duration": 0.060433,
          "end_time": "2021-11-27T20:25:58.186782",
          "exception": false,
          "start_time": "2021-11-27T20:25:58.126349",
          "status": "completed"
        },
        "tags": [],
        "colab": {
          "base_uri": "https://localhost:8080/"
        },
        "id": "2586d487",
        "outputId": "32e8d369-ca52-4757-bcce-48550f3f86a7"
      },
      "outputs": [
        {
          "output_type": "execute_result",
          "data": {
            "text/plain": [
              "array([43, 65, 20,  7,  4, 72, 30,  8,  1, 24, 53, 46, 52,  9, 18, 49, 71,\n",
              "       16, 20, 56,  8, 50, 51, 27,  9, 45, 41, 67, 39, 62,  4,  6, 29, 14,\n",
              "       31, 40, 72,  6, 27, 56, 36,  4, 15, 53, 69, 42, 67, 41, 72, 43, 74,\n",
              "       40, 42, 22, 33, 28, 56, 37, 40, 60, 14, 60, 36, 60, 70,  8, 67, 32,\n",
              "       63, 47, 46, 12,  3, 48, 50, 38, 74, 57,  0, 42, 69, 16, 16, 68, 16,\n",
              "       56, 24, 67, 49, 41, 59, 40, 65, 42, 17, 25, 45, 12, 28,  2])"
            ]
          },
          "metadata": {},
          "execution_count": 45
        }
      ],
      "source": [
        "sampled_indices"
      ]
    },
    {
      "cell_type": "code",
      "execution_count": 46,
      "id": "446e3b8a",
      "metadata": {
        "execution": {
          "iopub.execute_input": "2021-11-27T20:25:58.297349Z",
          "iopub.status.busy": "2021-11-27T20:25:58.296693Z",
          "iopub.status.idle": "2021-11-27T20:25:58.304466Z",
          "shell.execute_reply": "2021-11-27T20:25:58.305024Z",
          "shell.execute_reply.started": "2021-11-27T20:23:29.577828Z"
        },
        "papermill": {
          "duration": 0.06521,
          "end_time": "2021-11-27T20:25:58.305188",
          "exception": false,
          "start_time": "2021-11-27T20:25:58.239978",
          "status": "completed"
        },
        "tags": [],
        "colab": {
          "base_uri": "https://localhost:8080/"
        },
        "id": "446e3b8a",
        "outputId": "fba6dc95-6b45-49b0-96fa-e4d056754eeb"
      },
      "outputs": [
        {
          "output_type": "stream",
          "name": "stdout",
          "text": [
            "Input: \n",
            " \"n't wait, I don't wanna wait\\nI can't wait, I can't wait, I won't wait, I don't wanna wait Oooh oooh,\"\n",
            "\n",
            "Next char predictions: \n",
            " '[uA)&ÃK, Eibh-:e¢8Al,fgH-aWwUr&(J4LVÃ(HlR&6iyYwWÃ[óVYCNIlSVp4pRpz,wMscb1\"dfTóm\\nYy88x8lEweWoVuY9Fa1I!'\n"
          ]
        }
      ],
      "source": [
        "print('Input: \\n', repr(''.join(idx2char[input_example_batch[0]])))\n",
        "print()\n",
        "print('Next char predictions: \\n', repr(''.join(idx2char[sampled_indices])))"
      ]
    },
    {
      "cell_type": "markdown",
      "id": "71f2353a",
      "metadata": {
        "papermill": {
          "duration": 0.053171,
          "end_time": "2021-11-27T20:25:58.412602",
          "exception": false,
          "start_time": "2021-11-27T20:25:58.359431",
          "status": "completed"
        },
        "tags": [],
        "id": "71f2353a"
      },
      "source": [
        "# Model training"
      ]
    },
    {
      "cell_type": "markdown",
      "id": "0466b1b5",
      "metadata": {
        "papermill": {
          "duration": 0.053016,
          "end_time": "2021-11-27T20:25:58.518580",
          "exception": false,
          "start_time": "2021-11-27T20:25:58.465564",
          "status": "completed"
        },
        "tags": [],
        "id": "0466b1b5"
      },
      "source": [
        "**Optimizer and loss function**"
      ]
    },
    {
      "cell_type": "code",
      "execution_count": 47,
      "id": "c5f3eb5f",
      "metadata": {
        "execution": {
          "iopub.execute_input": "2021-11-27T20:25:58.628358Z",
          "iopub.status.busy": "2021-11-27T20:25:58.627671Z",
          "iopub.status.idle": "2021-11-27T20:25:58.630064Z",
          "shell.execute_reply": "2021-11-27T20:25:58.630477Z",
          "shell.execute_reply.started": "2021-11-27T20:23:29.586965Z"
        },
        "papermill": {
          "duration": 0.059143,
          "end_time": "2021-11-27T20:25:58.630593",
          "exception": false,
          "start_time": "2021-11-27T20:25:58.571450",
          "status": "completed"
        },
        "tags": [],
        "id": "c5f3eb5f"
      },
      "outputs": [],
      "source": [
        "def loss(labels, logits):\n",
        "  return tf.keras.losses.sparse_categorical_crossentropy(labels, logits, from_logits=True)"
      ]
    },
    {
      "cell_type": "code",
      "execution_count": 48,
      "id": "44fc3196",
      "metadata": {
        "execution": {
          "iopub.execute_input": "2021-11-27T20:25:58.740500Z",
          "iopub.status.busy": "2021-11-27T20:25:58.739820Z",
          "iopub.status.idle": "2021-11-27T20:25:58.759476Z",
          "shell.execute_reply": "2021-11-27T20:25:58.759069Z",
          "shell.execute_reply.started": "2021-11-27T20:23:29.593084Z"
        },
        "papermill": {
          "duration": 0.075755,
          "end_time": "2021-11-27T20:25:58.759578",
          "exception": false,
          "start_time": "2021-11-27T20:25:58.683823",
          "status": "completed"
        },
        "tags": [],
        "id": "44fc3196"
      },
      "outputs": [],
      "source": [
        "example_batch_loss = loss(target_example_batch, example_batch_predictions)"
      ]
    },
    {
      "cell_type": "code",
      "execution_count": 49,
      "id": "356cfeca",
      "metadata": {
        "execution": {
          "iopub.execute_input": "2021-11-27T20:25:58.868622Z",
          "iopub.status.busy": "2021-11-27T20:25:58.868096Z",
          "iopub.status.idle": "2021-11-27T20:25:58.873261Z",
          "shell.execute_reply": "2021-11-27T20:25:58.873646Z",
          "shell.execute_reply.started": "2021-11-27T20:23:29.604309Z"
        },
        "papermill": {
          "duration": 0.061062,
          "end_time": "2021-11-27T20:25:58.873792",
          "exception": false,
          "start_time": "2021-11-27T20:25:58.812730",
          "status": "completed"
        },
        "tags": [],
        "colab": {
          "base_uri": "https://localhost:8080/"
        },
        "id": "356cfeca",
        "outputId": "a2fccd4a-b9b2-47b2-9324-798b6ba41eef"
      },
      "outputs": [
        {
          "output_type": "execute_result",
          "data": {
            "text/plain": [
              "4.330301"
            ]
          },
          "metadata": {},
          "execution_count": 49
        }
      ],
      "source": [
        "example_batch_loss.numpy().mean()"
      ]
    },
    {
      "cell_type": "code",
      "execution_count": 50,
      "id": "1263afb7",
      "metadata": {
        "execution": {
          "iopub.execute_input": "2021-11-27T20:25:58.989131Z",
          "iopub.status.busy": "2021-11-27T20:25:58.988310Z",
          "iopub.status.idle": "2021-11-27T20:25:58.994548Z",
          "shell.execute_reply": "2021-11-27T20:25:58.994098Z",
          "shell.execute_reply.started": "2021-11-27T20:23:29.614188Z"
        },
        "papermill": {
          "duration": 0.067183,
          "end_time": "2021-11-27T20:25:58.994648",
          "exception": false,
          "start_time": "2021-11-27T20:25:58.927465",
          "status": "completed"
        },
        "tags": [],
        "id": "1263afb7"
      },
      "outputs": [],
      "source": [
        "model.compile(optimizer='Adam', loss=loss)"
      ]
    },
    {
      "cell_type": "markdown",
      "id": "56f2d6d3",
      "metadata": {
        "papermill": {
          "duration": 0.052808,
          "end_time": "2021-11-27T20:25:59.101354",
          "exception": false,
          "start_time": "2021-11-27T20:25:59.048546",
          "status": "completed"
        },
        "tags": [],
        "id": "56f2d6d3"
      },
      "source": [
        "**Checkpoints**"
      ]
    },
    {
      "cell_type": "code",
      "execution_count": 51,
      "id": "e3d4464f",
      "metadata": {
        "execution": {
          "iopub.execute_input": "2021-11-27T20:25:59.213158Z",
          "iopub.status.busy": "2021-11-27T20:25:59.212318Z",
          "iopub.status.idle": "2021-11-27T20:25:59.214101Z",
          "shell.execute_reply": "2021-11-27T20:25:59.214518Z",
          "shell.execute_reply.started": "2021-11-27T20:23:29.625205Z"
        },
        "papermill": {
          "duration": 0.059718,
          "end_time": "2021-11-27T20:25:59.214637",
          "exception": false,
          "start_time": "2021-11-27T20:25:59.154919",
          "status": "completed"
        },
        "tags": [],
        "id": "e3d4464f"
      },
      "outputs": [],
      "source": [
        "checkpoint_dir = './training_checkpoints'\n",
        "checkpoint_prefix = os.path.join(checkpoint_dir, 'ckpt_{epoch}')\n",
        "checkpoint_callback = tf.keras.callbacks.ModelCheckpoint(filepath=checkpoint_prefix, save_weights_only=True)"
      ]
    },
    {
      "cell_type": "markdown",
      "id": "0e6bc5b6",
      "metadata": {
        "papermill": {
          "duration": 0.052876,
          "end_time": "2021-11-27T20:25:59.320550",
          "exception": false,
          "start_time": "2021-11-27T20:25:59.267674",
          "status": "completed"
        },
        "tags": [],
        "id": "0e6bc5b6"
      },
      "source": [
        "# Execution of training"
      ]
    },
    {
      "cell_type": "code",
      "execution_count": 52,
      "id": "bdaaf477",
      "metadata": {
        "execution": {
          "iopub.execute_input": "2021-11-27T20:25:59.431347Z",
          "iopub.status.busy": "2021-11-27T20:25:59.430627Z",
          "iopub.status.idle": "2021-11-27T20:26:53.197137Z",
          "shell.execute_reply": "2021-11-27T20:26:53.196583Z",
          "shell.execute_reply.started": "2021-11-27T20:23:29.632474Z"
        },
        "papermill": {
          "duration": 53.823497,
          "end_time": "2021-11-27T20:26:53.197288",
          "exception": false,
          "start_time": "2021-11-27T20:25:59.373791",
          "status": "completed"
        },
        "tags": [],
        "colab": {
          "base_uri": "https://localhost:8080/"
        },
        "id": "bdaaf477",
        "outputId": "6a938582-a7b9-4740-ed15-b602796f11c0"
      },
      "outputs": [
        {
          "output_type": "stream",
          "name": "stdout",
          "text": [
            "Epoch 1/40\n",
            "17/17 [==============================] - 6s 177ms/step - loss: 3.3768\n",
            "Epoch 2/40\n",
            "17/17 [==============================] - 3s 163ms/step - loss: 3.0765\n",
            "Epoch 3/40\n",
            "17/17 [==============================] - 3s 163ms/step - loss: 2.8843\n",
            "Epoch 4/40\n",
            "17/17 [==============================] - 3s 165ms/step - loss: 2.5776\n",
            "Epoch 5/40\n",
            "17/17 [==============================] - 3s 166ms/step - loss: 2.3908\n",
            "Epoch 6/40\n",
            "17/17 [==============================] - 3s 167ms/step - loss: 2.2643\n",
            "Epoch 7/40\n",
            "17/17 [==============================] - 3s 165ms/step - loss: 2.1524\n",
            "Epoch 8/40\n",
            "17/17 [==============================] - 3s 165ms/step - loss: 2.0456\n",
            "Epoch 9/40\n",
            "17/17 [==============================] - 3s 166ms/step - loss: 1.9367\n",
            "Epoch 10/40\n",
            "17/17 [==============================] - 3s 168ms/step - loss: 1.8347\n",
            "Epoch 11/40\n",
            "17/17 [==============================] - 3s 173ms/step - loss: 1.7425\n",
            "Epoch 12/40\n",
            "17/17 [==============================] - 3s 168ms/step - loss: 1.6522\n",
            "Epoch 13/40\n",
            "17/17 [==============================] - 3s 175ms/step - loss: 1.5651\n",
            "Epoch 14/40\n",
            "17/17 [==============================] - 3s 167ms/step - loss: 1.4798\n",
            "Epoch 15/40\n",
            "17/17 [==============================] - 3s 166ms/step - loss: 1.3914\n",
            "Epoch 16/40\n",
            "17/17 [==============================] - 3s 166ms/step - loss: 1.3076\n",
            "Epoch 17/40\n",
            "17/17 [==============================] - 3s 166ms/step - loss: 1.2269\n",
            "Epoch 18/40\n",
            "17/17 [==============================] - 3s 167ms/step - loss: 1.1444\n",
            "Epoch 19/40\n",
            "17/17 [==============================] - 3s 167ms/step - loss: 1.0663\n",
            "Epoch 20/40\n",
            "17/17 [==============================] - 3s 166ms/step - loss: 0.9825\n",
            "Epoch 21/40\n",
            "17/17 [==============================] - 3s 165ms/step - loss: 0.9111\n",
            "Epoch 22/40\n",
            "17/17 [==============================] - 3s 169ms/step - loss: 0.8440\n",
            "Epoch 23/40\n",
            "17/17 [==============================] - 3s 167ms/step - loss: 0.7775\n",
            "Epoch 24/40\n",
            "17/17 [==============================] - 3s 166ms/step - loss: 0.7126\n",
            "Epoch 25/40\n",
            "17/17 [==============================] - 3s 168ms/step - loss: 0.6514\n",
            "Epoch 26/40\n",
            "17/17 [==============================] - 3s 168ms/step - loss: 0.6022\n",
            "Epoch 27/40\n",
            "17/17 [==============================] - 3s 168ms/step - loss: 0.5527\n",
            "Epoch 28/40\n",
            "17/17 [==============================] - 3s 166ms/step - loss: 0.5074\n",
            "Epoch 29/40\n",
            "17/17 [==============================] - 3s 166ms/step - loss: 0.4751\n",
            "Epoch 30/40\n",
            "17/17 [==============================] - 3s 167ms/step - loss: 0.4382\n",
            "Epoch 31/40\n",
            "17/17 [==============================] - 3s 170ms/step - loss: 0.4118\n",
            "Epoch 32/40\n",
            "17/17 [==============================] - 3s 169ms/step - loss: 0.3826\n",
            "Epoch 33/40\n",
            "17/17 [==============================] - 3s 167ms/step - loss: 0.3612\n",
            "Epoch 34/40\n",
            "17/17 [==============================] - 3s 165ms/step - loss: 0.3422\n",
            "Epoch 35/40\n",
            "17/17 [==============================] - 3s 166ms/step - loss: 0.3224\n",
            "Epoch 36/40\n",
            "17/17 [==============================] - 3s 174ms/step - loss: 0.3079\n",
            "Epoch 37/40\n",
            "17/17 [==============================] - 3s 168ms/step - loss: 0.2979\n",
            "Epoch 38/40\n",
            "17/17 [==============================] - 3s 169ms/step - loss: 0.2872\n",
            "Epoch 39/40\n",
            "17/17 [==============================] - 3s 167ms/step - loss: 0.2715\n",
            "Epoch 40/40\n",
            "17/17 [==============================] - 3s 167ms/step - loss: 0.2667\n"
          ]
        }
      ],
      "source": [
        "epochs = 40\n",
        "history = model.fit(dataset, epochs = epochs, callbacks=[checkpoint_callback])"
      ]
    },
    {
      "cell_type": "markdown",
      "id": "56c47df3",
      "metadata": {
        "papermill": {
          "duration": 0.182966,
          "end_time": "2021-11-27T20:26:53.563782",
          "exception": false,
          "start_time": "2021-11-27T20:26:53.380816",
          "status": "completed"
        },
        "tags": [],
        "id": "56c47df3"
      },
      "source": [
        "# Text Generation"
      ]
    },
    {
      "cell_type": "markdown",
      "id": "1cbaaf16",
      "metadata": {
        "papermill": {
          "duration": 0.195039,
          "end_time": "2021-11-27T20:26:53.941354",
          "exception": false,
          "start_time": "2021-11-27T20:26:53.746315",
          "status": "completed"
        },
        "tags": [],
        "id": "1cbaaf16"
      },
      "source": [
        "Restore last checkpoint"
      ]
    },
    {
      "cell_type": "code",
      "execution_count": 53,
      "id": "cd9d6445",
      "metadata": {
        "execution": {
          "iopub.execute_input": "2021-11-27T20:26:54.319935Z",
          "iopub.status.busy": "2021-11-27T20:26:54.319240Z",
          "iopub.status.idle": "2021-11-27T20:26:54.321781Z",
          "shell.execute_reply": "2021-11-27T20:26:54.322206Z",
          "shell.execute_reply.started": "2021-11-27T20:24:32.051170Z"
        },
        "papermill": {
          "duration": 0.190303,
          "end_time": "2021-11-27T20:26:54.322331",
          "exception": false,
          "start_time": "2021-11-27T20:26:54.132028",
          "status": "completed"
        },
        "tags": [],
        "colab": {
          "base_uri": "https://localhost:8080/",
          "height": 36
        },
        "id": "cd9d6445",
        "outputId": "a77500a6-9686-419f-acd1-f985ed60103c"
      },
      "outputs": [
        {
          "output_type": "execute_result",
          "data": {
            "text/plain": [
              "'./training_checkpoints/ckpt_40'"
            ],
            "application/vnd.google.colaboratory.intrinsic+json": {
              "type": "string"
            }
          },
          "metadata": {},
          "execution_count": 53
        }
      ],
      "source": [
        "tf.train.latest_checkpoint(checkpoint_dir)"
      ]
    },
    {
      "cell_type": "code",
      "execution_count": 54,
      "id": "083bf5d7",
      "metadata": {
        "execution": {
          "iopub.execute_input": "2021-11-27T20:26:54.696012Z",
          "iopub.status.busy": "2021-11-27T20:26:54.695354Z",
          "iopub.status.idle": "2021-11-27T20:26:54.921535Z",
          "shell.execute_reply": "2021-11-27T20:26:54.922138Z",
          "shell.execute_reply.started": "2021-11-27T20:24:32.058547Z"
        },
        "papermill": {
          "duration": 0.418129,
          "end_time": "2021-11-27T20:26:54.922306",
          "exception": false,
          "start_time": "2021-11-27T20:26:54.504177",
          "status": "completed"
        },
        "tags": [],
        "id": "083bf5d7"
      },
      "outputs": [],
      "source": [
        "model = build_model(vocab_size, embedding_dim, rnn_units, batch_size = 1)\n",
        "model.load_weights(tf.train.latest_checkpoint(checkpoint_dir))\n",
        "model.build(tf.TensorShape([1, None]))"
      ]
    },
    {
      "cell_type": "code",
      "execution_count": 55,
      "id": "a29055f6",
      "metadata": {
        "execution": {
          "iopub.execute_input": "2021-11-27T20:26:55.297385Z",
          "iopub.status.busy": "2021-11-27T20:26:55.296478Z",
          "iopub.status.idle": "2021-11-27T20:26:55.300053Z",
          "shell.execute_reply": "2021-11-27T20:26:55.300646Z",
          "shell.execute_reply.started": "2021-11-27T20:24:32.296762Z"
        },
        "papermill": {
          "duration": 0.193291,
          "end_time": "2021-11-27T20:26:55.300836",
          "exception": false,
          "start_time": "2021-11-27T20:26:55.107545",
          "status": "completed"
        },
        "tags": [],
        "colab": {
          "base_uri": "https://localhost:8080/"
        },
        "id": "a29055f6",
        "outputId": "ba070244-303c-49e5-c74a-a000fa369a8f"
      },
      "outputs": [
        {
          "output_type": "stream",
          "name": "stdout",
          "text": [
            "Model: \"sequential_1\"\n",
            "_________________________________________________________________\n",
            " Layer (type)                Output Shape              Param #   \n",
            "=================================================================\n",
            " embedding_1 (Embedding)     (1, None, 256)            19456     \n",
            "                                                                 \n",
            " lstm_1 (LSTM)               (1, None, 1024)           5246976   \n",
            "                                                                 \n",
            " dense_1 (Dense)             (1, None, 76)             77900     \n",
            "                                                                 \n",
            "=================================================================\n",
            "Total params: 5,344,332\n",
            "Trainable params: 5,344,332\n",
            "Non-trainable params: 0\n",
            "_________________________________________________________________\n"
          ]
        }
      ],
      "source": [
        "model.summary()"
      ]
    },
    {
      "cell_type": "markdown",
      "id": "89dcac52",
      "metadata": {
        "papermill": {
          "duration": 0.183434,
          "end_time": "2021-11-27T20:26:55.668810",
          "exception": false,
          "start_time": "2021-11-27T20:26:55.485376",
          "status": "completed"
        },
        "tags": [],
        "id": "89dcac52"
      },
      "source": [
        "# Prediction Loop"
      ]
    },
    {
      "cell_type": "code",
      "execution_count": 56,
      "id": "090bc9ee",
      "metadata": {
        "execution": {
          "iopub.execute_input": "2021-11-27T20:26:56.754548Z",
          "iopub.status.busy": "2021-11-27T20:26:56.753671Z",
          "iopub.status.idle": "2021-11-27T20:26:56.756276Z",
          "shell.execute_reply": "2021-11-27T20:26:56.755854Z",
          "shell.execute_reply.started": "2021-11-27T20:24:32.308019Z"
        },
        "papermill": {
          "duration": 0.194315,
          "end_time": "2021-11-27T20:26:56.756389",
          "exception": false,
          "start_time": "2021-11-27T20:26:56.562074",
          "status": "completed"
        },
        "tags": [],
        "id": "090bc9ee"
      },
      "outputs": [],
      "source": [
        "def generate_text(model, start_string):\n",
        "  \n",
        "  num_generate = 1000\n",
        "\n",
        "  \n",
        "  input_eval = [char2idx[s] for s in start_string]\n",
        "  input_eval = tf.expand_dims(input_eval, 0)\n",
        "  \n",
        "  text_generated = []\n",
        "   \n",
        "  temperature = 1.0\n",
        "\n",
        "  \n",
        "  for i in range(num_generate):\n",
        "    \n",
        "    predictions = model(input_eval)\n",
        "\n",
        "    \n",
        "    predictions = tf.squeeze(predictions, 0)\n",
        "    predictions = predictions / temperature\n",
        "    predicted_id = tf.random.categorical(predictions, num_samples=1)[-1,0].numpy()\n",
        "\n",
        "    \n",
        "    input_eval = tf.expand_dims([predicted_id], 0)\n",
        "\n",
        "    text_generated.append(idx2char[predicted_id])\n",
        "  \n",
        "  return (start_string + ''.join(text_generated))"
      ]
    },
    {
      "cell_type": "code",
      "execution_count": 57,
      "id": "482e897e",
      "metadata": {
        "execution": {
          "iopub.execute_input": "2021-11-27T20:26:57.129292Z",
          "iopub.status.busy": "2021-11-27T20:26:57.128479Z",
          "iopub.status.idle": "2021-11-27T20:27:01.914620Z",
          "shell.execute_reply": "2021-11-27T20:27:01.915242Z",
          "shell.execute_reply.started": "2021-11-27T20:24:32.317201Z"
        },
        "papermill": {
          "duration": 4.974808,
          "end_time": "2021-11-27T20:27:01.915442",
          "exception": false,
          "start_time": "2021-11-27T20:26:56.940634",
          "status": "completed"
        },
        "tags": [],
        "colab": {
          "base_uri": "https://localhost:8080/"
        },
        "id": "482e897e",
        "outputId": "bf030db8-b6a6-4c60-988d-b27659a70104"
      },
      "outputs": [
        {
          "output_type": "stream",
          "name": "stdout",
          "text": [
            "I love Deep Learning: I heaving back in Scame\n",
            "She's not that this want me that just a queen\n",
            "In between 'em, yeah\n",
            "To you dow think That you can trust is just\n",
            "Another way to die How\n",
            "And Mive you know you never loveds someone\n",
            "The way that I lever for you You? I wanna hold my pillow\n",
            "I wanna hold you Don't wanna go all night\n",
            "Can treak Pary, it's a real man, yah, yeah, yeah And you no\n",
            "Yeah, yeah, yeah, yeah)\n",
            "Say yeah yeah yeah yeah\n",
            "(Yeah, yeah, yeah, yeah)\n",
            "Say yeah yeah yeah yeah\n",
            "(Yeah, yeah, yeah, yeah)\n",
            "Say yeah yeah yeah yeah\n",
            "(Yeah, yeah, yeah, yeah, yeah)\n",
            "Yeah Have you ever fert to here\n",
            "It har I nut do somethingh world of me I'll get in the way of what I'm feeling\n",
            "No one no onen's not\n",
            "I paid touverthing was go\n",
            "And let some other Jane Doe\n",
            "Come, I and I con't tell your secrets\n",
            "Your secrets are safe with me\n",
            "I will keep your secrets\n",
            "Just think of me as the pages in your diary (I here\n",
            "Its all make it you, I love my name in my baby)\n",
            "Tring my my just Another blin\n",
            "What some people search for a fountain\n",
            "That promises f\n"
          ]
        }
      ],
      "source": [
        "print(generate_text(model, start_string='I love Deep Learning: '))"
      ]
    }
  ],
  "metadata": {
    "kernelspec": {
      "display_name": "Python 3",
      "language": "python",
      "name": "python3"
    },
    "language_info": {
      "codemirror_mode": {
        "name": "ipython",
        "version": 3
      },
      "file_extension": ".py",
      "mimetype": "text/x-python",
      "name": "python",
      "nbconvert_exporter": "python",
      "pygments_lexer": "ipython3",
      "version": "3.7.10"
    },
    "papermill": {
      "default_parameters": {},
      "duration": 90.479035,
      "end_time": "2021-11-27T20:27:06.141186",
      "environment_variables": {},
      "exception": null,
      "input_path": "__notebook__.ipynb",
      "output_path": "__notebook__.ipynb",
      "parameters": {},
      "start_time": "2021-11-27T20:25:35.662151",
      "version": "2.3.3"
    },
    "colab": {
      "name": "text-predictions-alicia-keys.ipynb",
      "provenance": []
    },
    "accelerator": "GPU"
  },
  "nbformat": 4,
  "nbformat_minor": 5
}